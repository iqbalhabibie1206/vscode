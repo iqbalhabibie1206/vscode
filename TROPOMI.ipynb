{
    "cells": [
        {
            "cell_type": "code",
            "execution_count": 7,
            "source": [
                "flex_title = \"Indonesian Atmosphere\"\r\n",
                "flex_subtitle = \"Nusantara Earth Observation Network\""
            ],
            "outputs": [],
            "metadata": {
                "tags": [
                    "parameters"
                ]
            }
        },
        {
            "cell_type": "code",
            "execution_count": 8,
            "source": [
                "import ee\r\n",
                "import os\r\n",
                "\r\n",
                "# Interactive Python\r\n",
                "import ipyleaflet\r\n",
                "import ipywidgets as widgets\r\n",
                "from IPython.display import display, clear_output\r\n",
                "from datetime import date, timedelta, datetime\r\n",
                "\r\n",
                "# Initialize Earth Engine token\r\n",
                "ee_token = os.environ.get(\"EARTHENGINE_TOKEN\")\r\n",
                "if ee_token is not None:\r\n",
                "    credential_file_path = os.path.expanduser(\"~/.config/earthengine/\")\r\n",
                "    if not os.path.exists(credential_file_path):\r\n",
                "        credential = '{\"refresh_token\":\"%s\"}' % ee_token\r\n",
                "        os.makedirs(credential_file_path, exist_ok=True)\r\n",
                "        with open(credential_file_path + \"credentials\", \"w\") as file:\r\n",
                "            file.write(credential)\r\n",
                "\r\n",
                "ee.Initialize()"
            ],
            "outputs": [],
            "metadata": {}
        },
        {
            "cell_type": "markdown",
            "source": [
                "## Section"
            ],
            "metadata": {
                "tags": [
                    "size=200"
                ]
            }
        },
        {
            "cell_type": "markdown",
            "source": [
                "### Parameters"
            ],
            "metadata": {}
        },
        {
            "cell_type": "code",
            "execution_count": 9,
            "source": [
                "obs_label = widgets.Label(value='Date:')\r\n",
                "obs_var = widgets.DatePicker(\r\n",
                "    value=date.today() - timedelta(days=2)\r\n",
                ")\r\n",
                "\r\n",
                "param_label = widgets.Label(value='Pollutant:')\r\n",
                "param_var = widgets.Dropdown(\r\n",
                "    options=[\r\n",
                "        'Nitrogen Dioxide', 'Carbon Monoxide', 'Sulphur Dioxide'\r\n",
                "    ],\r\n",
                "    value='Nitrogen Dioxide'\r\n",
                ")\r\n",
                "\r\n",
                "inputs = widgets.VBox([\r\n",
                "    obs_label, obs_var, param_label, param_var\r\n",
                "])\r\n",
                "display(inputs)"
            ],
            "outputs": [
                {
                    "output_type": "display_data",
                    "data": {
                        "text/plain": [
                            "VBox(children=(Label(value='Date:'), DatePicker(value=datetime.date(2021, 8, 4)), Label(value='Pollutant:'), D…"
                        ],
                        "application/vnd.jupyter.widget-view+json": {
                            "version_major": 2,
                            "version_minor": 0,
                            "model_id": "50451e65c1094481be4bc56cbcbe4004"
                        }
                    },
                    "metadata": {}
                }
            ],
            "metadata": {
                "tags": [
                    "body"
                ]
            }
        },
        {
            "cell_type": "markdown",
            "source": [
                "### About"
            ],
            "metadata": {}
        },
        {
            "cell_type": "markdown",
            "source": [
                "Nitrogen Dioxide column number density obtained by the TROPOMI to visualize the difference of emission pre-PPKM (left) and chosen date (right).\r\n",
                "\r\n",
                "For more information, contact:\r\n",
                "[Josef Matondang](mailto:admin@josefmtd.com)"
            ],
            "metadata": {
                "tags": [
                    "body"
                ]
            }
        },
        {
            "cell_type": "markdown",
            "source": [
                "## Column"
            ],
            "metadata": {
                "tags": [
                    "size=800"
                ]
            }
        },
        {
            "cell_type": "markdown",
            "source": [
                "### Sentinel-5P TROPOMI Measurements"
            ],
            "metadata": {}
        },
        {
            "cell_type": "code",
            "execution_count": 10,
            "source": [
                "trace_gases = {\r\n",
                "    'Nitrogen Dioxide' : {\r\n",
                "        'short' : 'NO2',\r\n",
                "        'band' : 'tropospheric_NO2_column_number_density',\r\n",
                "        'min' : 0.0,\r\n",
                "        'max' : 200.0,\r\n",
                "        'multiplier' : 1e6\r\n",
                "    },\r\n",
                "    'Carbon Monoxide' : {\r\n",
                "        'short' : 'CO',\r\n",
                "        'band' : 'CO_column_number_density',\r\n",
                "        'min' : 0.0,\r\n",
                "        'max' : 0.05,\r\n",
                "        'multiplier' : 1e0\r\n",
                "    },\r\n",
                "    'Sulphur Dioxide' : {\r\n",
                "        'short' : 'SO2',\r\n",
                "        'band' : 'SO2_column_number_density',\r\n",
                "        'min' : 0.0,\r\n",
                "        'max' : 500.0,\r\n",
                "        'multiplier' : 1e6\r\n",
                "    },\r\n",
                "    'Ozone' : {\r\n",
                "        'short' : 'O3',\r\n",
                "        'band' : 'O3_column_number_density',\r\n",
                "        'min' : 0.12,\r\n",
                "        'max' : 0.15,\r\n",
                "        'multiplier' : 1e0\r\n",
                "    }\r\n",
                "}\r\n",
                "\r\n",
                "def create_ee_tile_layer(image, vis_params, name):\r\n",
                "    map_id_dict = image.getMapId(vis_params)\r\n",
                "    tile_layer = ipyleaflet.TileLayer(\r\n",
                "        url=map_id_dict[\"tile_fetcher\"].url_format,\r\n",
                "        attribution=\"European Space Agency, Google Earth Engine\",\r\n",
                "        name=name,\r\n",
                "        opacity=1.0,\r\n",
                "        shown=True\r\n",
                "    )\r\n",
                "    return tile_layer\r\n",
                "\r\n",
                "def on_value_change(change):\r\n",
                "    obs = obs_var.value\r\n",
                "    param = param_var.value\r\n",
                "    \r\n",
                "    with out:\r\n",
                "        gas_name = trace_gases[param]['short']\r\n",
                "        band_name = trace_gases[param]['band']\r\n",
                "        end = obs + timedelta(days=1)\r\n",
                "        baseline = ee.ImageCollection('COPERNICUS/S5P/OFFL/L3_{}'.format(gas_name)) \\\r\n",
                "            .filterDate('2021-05-24', '2021-06-06') \\\r\n",
                "            .select(band_name)\r\n",
                "\r\n",
                "        nrti = ee.ImageCollection('COPERNICUS/S5P/NRTI/L3_{}'.format(gas_name)) \\\r\n",
                "            .filterDate(obs.isoformat(), end.isoformat()) \\\r\n",
                "            .select(band_name)\r\n",
                "\r\n",
                "        Map = ipyleaflet.Map(center=(0,120), zoom=5,\r\n",
                "            min_zoom=5, max_zoom=12, \r\n",
                "            scroll_wheel_zoom=True,\r\n",
                "            basemap=ipyleaflet.basemaps.CartoDB.Positron\r\n",
                "        )\r\n",
                "\r\n",
                "        vmin = trace_gases[param][\"min\"]\r\n",
                "        vmax = trace_gases[param][\"max\"]\r\n",
                "        multiplier = trace_gases[param][\"multiplier\"]\r\n",
                "        palette = ['black', 'blue', 'purple', 'cyan', 'green', 'yellow', 'red']\r\n",
                "\r\n",
                "        vis_params = {\r\n",
                "            'min': vmin,\r\n",
                "            'max': vmax,\r\n",
                "            'palette': palette\r\n",
                "        }\r\n",
                "\r\n",
                "        baseline_vis = baseline.mean().multiply(multiplier) \r\n",
                "        nrti_vis = nrti.mean().multiply(multiplier)\r\n",
                "\r\n",
                "        left = create_ee_tile_layer(baseline_vis, vis_params, 'Pre-PPKM')\r\n",
                "        right = create_ee_tile_layer(nrti_vis, vis_params, 'Observed')\r\n",
                "\r\n",
                "        control = ipyleaflet.SplitMapControl(left_layer=left, right_layer=right)\r\n",
                "        Map.add_control(control)\r\n",
                "\r\n",
                "        if change is not None:\r\n",
                "            clear_output(wait=True)\r\n",
                "\r\n",
                "        display(Map)"
            ],
            "outputs": [],
            "metadata": {}
        },
        {
            "cell_type": "code",
            "execution_count": 11,
            "source": [
                "out = widgets.Output()\r\n",
                "obs_var.observe(on_value_change, names=\"value\")\r\n",
                "param_var.observe(on_value_change, names=\"value\")\r\n",
                "\r\n",
                "on_value_change(None)\r\n",
                "display(out)"
            ],
            "outputs": [
                {
                    "output_type": "display_data",
                    "data": {
                        "text/plain": [
                            "Output()"
                        ],
                        "application/vnd.jupyter.widget-view+json": {
                            "version_major": 2,
                            "version_minor": 0,
                            "model_id": "ef0d9e8a861f4484875ca685a130957e"
                        }
                    },
                    "metadata": {}
                }
            ],
            "metadata": {
                "tags": [
                    "body"
                ]
            }
        }
    ],
    "metadata": {
        "orig_nbformat": 4,
        "language_info": {
            "name": "python",
            "version": "3.9.6",
            "mimetype": "text/x-python",
            "codemirror_mode": {
                "name": "ipython",
                "version": 3
            },
            "pygments_lexer": "ipython3",
            "nbconvert_exporter": "python",
            "file_extension": ".py"
        },
        "kernelspec": {
            "name": "python3",
            "display_name": "Python 3.9.6 64-bit ('notebook': conda)"
        },
        "interpreter": {
            "hash": "456e0795d6f3aab2473551b267d04c9b6c216f0918c2556a05f5f3b39cb316d5"
        }
    },
    "nbformat": 4,
    "nbformat_minor": 2
}